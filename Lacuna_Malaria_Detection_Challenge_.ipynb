{
  "cells": [
    {
      "cell_type": "markdown",
      "metadata": {
        "id": "view-in-github",
        "colab_type": "text"
      },
      "source": [
        "<a href=\"https://colab.research.google.com/github/ngwuprince/Computer-Vision-Malaria-detection/blob/main/Lacuna_Malaria_Detection_Challenge_.ipynb\" target=\"_parent\"><img src=\"https://colab.research.google.com/assets/colab-badge.svg\" alt=\"Open In Colab\"/></a>"
      ]
    },
    {
      "cell_type": "code",
      "source": [
        "# Check GPU type\n",
        "!nvidia-smi"
      ],
      "metadata": {
        "colab": {
          "base_uri": "https://localhost:8080/"
        },
        "id": "C2JGBuAeUDi7",
        "outputId": "73b590ec-f500-498e-b40a-0ac7f91e0ddf"
      },
      "execution_count": 1,
      "outputs": [
        {
          "output_type": "stream",
          "name": "stdout",
          "text": [
            "/bin/bash: line 1: nvidia-smi: command not found\n"
          ]
        }
      ]
    },
    {
      "cell_type": "code",
      "execution_count": 1,
      "metadata": {
        "colab": {
          "base_uri": "https://localhost:8080/"
        },
        "id": "AK-6-eQqhTeV",
        "outputId": "25f01953-ee95-457b-fb6f-85927cb4528d"
      },
      "outputs": [
        {
          "output_type": "stream",
          "name": "stdout",
          "text": [
            "\u001b[?25l   \u001b[90m━━━━━━━━━━━━━━━━━━━━━━━━━━━━━━━━━━━━━━━━\u001b[0m \u001b[32m0.0/882.2 kB\u001b[0m \u001b[31m?\u001b[0m eta \u001b[36m-:--:--\u001b[0m\r\u001b[2K   \u001b[91m━━━━━━━━━━━━━━━━━━━━━━━━━━━━━━━━━━━━━━\u001b[0m\u001b[91m╸\u001b[0m\u001b[90m━\u001b[0m \u001b[32m860.2/882.2 kB\u001b[0m \u001b[31m25.5 MB/s\u001b[0m eta \u001b[36m0:00:01\u001b[0m\r\u001b[2K   \u001b[90m━━━━━━━━━━━━━━━━━━━━━━━━━━━━━━━━━━━━━━━━\u001b[0m \u001b[32m882.2/882.2 kB\u001b[0m \u001b[31m14.4 MB/s\u001b[0m eta \u001b[36m0:00:00\u001b[0m\n",
            "\u001b[?25h"
          ]
        }
      ],
      "source": [
        "# Install ultralytics\n",
        "!pip -q install  ultralytics"
      ]
    },
    {
      "cell_type": "code",
      "execution_count": 2,
      "metadata": {
        "id": "YEIlI7wOGP-R",
        "colab": {
          "base_uri": "https://localhost:8080/"
        },
        "outputId": "961d558f-bb6a-4a4f-c992-7d3043bf57db"
      },
      "outputs": [
        {
          "output_type": "stream",
          "name": "stdout",
          "text": [
            "Creating new Ultralytics Settings v0.0.6 file ✅ \n",
            "View Ultralytics Settings with 'yolo settings' or at '/root/.config/Ultralytics/settings.json'\n",
            "Update Settings with 'yolo settings key=value', i.e. 'yolo settings runs_dir=path/to/dir'. For help see https://docs.ultralytics.com/quickstart/#ultralytics-settings.\n"
          ]
        }
      ],
      "source": [
        "# Import libraries\n",
        "import pandas as pd\n",
        "import os\n",
        "from pathlib import Path\n",
        "import shutil\n",
        "from sklearn.model_selection import train_test_split\n",
        "from tqdm.notebook import tqdm\n",
        "import cv2\n",
        "import yaml\n",
        "import matplotlib.pyplot as plt\n",
        "from ultralytics import YOLO\n",
        "import multiprocessing"
      ]
    },
    {
      "cell_type": "code",
      "source": [
        "from google.colab import drive\n",
        "drive.mount('/content/drive')"
      ],
      "metadata": {
        "colab": {
          "base_uri": "https://localhost:8080/"
        },
        "id": "plUM9MMWbKO1",
        "outputId": "26e31a9e-9a41-4b90-c738-bbf1a168ae5a"
      },
      "execution_count": 3,
      "outputs": [
        {
          "output_type": "stream",
          "name": "stdout",
          "text": [
            "Mounted at /content/drive\n"
          ]
        }
      ]
    },
    {
      "cell_type": "code",
      "execution_count": 4,
      "metadata": {
        "colab": {
          "base_uri": "https://localhost:8080/"
        },
        "id": "Ozqm5yKJGuV4",
        "outputId": "cd8c08ad-a5ce-467e-b0c3-d8e3af2d723a"
      },
      "outputs": [
        {
          "output_type": "execute_result",
          "data": {
            "text/plain": [
              "['manifest-c922911ae9101743fc37dc64723c2ee220240829-19463-18lbi0k.json',\n",
              " 'Lacuna_Malaria_Detection_Challenge_Starter.ipynb',\n",
              " 'Test.csv',\n",
              " 'Train.csv',\n",
              " 'SampleSubmission.csv',\n",
              " 'images']"
            ]
          },
          "metadata": {},
          "execution_count": 4
        }
      ],
      "source": [
        "# Path to where your data is stored\n",
        "DATA_DIR = Path('/content/drive/MyDrive/lacuna-malaria-detection-challenge')\n",
        "\n",
        "# Preview data files available\n",
        "os.listdir(DATA_DIR)"
      ]
    },
    {
      "cell_type": "code",
      "execution_count": 5,
      "metadata": {
        "id": "oYL1hmTCP6d0"
      },
      "outputs": [],
      "source": [
        "# Set up directoris for training a yolo model\n",
        "\n",
        "# Images directories\n",
        "DATASET_DIR = Path('datasets/dataset')\n",
        "IMAGES_DIR = DATASET_DIR / 'images'\n",
        "TRAIN_IMAGES_DIR = IMAGES_DIR / 'train'\n",
        "VAL_IMAGES_DIR = IMAGES_DIR / 'val'\n",
        "TEST_IMAGES_DIR = IMAGES_DIR / 'test'\n",
        "\n",
        "# Labels directories\n",
        "LABELS_DIR = DATASET_DIR / 'labels'\n",
        "TRAIN_LABELS_DIR = LABELS_DIR / 'train'\n",
        "VAL_LABELS_DIR = LABELS_DIR / 'val'\n",
        "TEST_LABELS_DIR = LABELS_DIR / 'test'"
      ]
    },
    {
      "cell_type": "code",
      "execution_count": 6,
      "metadata": {
        "id": "COCyht5BGuQV"
      },
      "outputs": [],
      "source": [
        "# Unzip images to 'images' dir\n",
        "#shutil.unpack_archive(DATA_DIR / 'images.zip', 'images')"
      ]
    },
    {
      "cell_type": "code",
      "execution_count": 7,
      "metadata": {
        "colab": {
          "base_uri": "https://localhost:8080/",
          "height": 206
        },
        "id": "VIBthAgmRcYW",
        "outputId": "b8365cff-7787-4c70-c883-447bfeba046a"
      },
      "outputs": [
        {
          "output_type": "execute_result",
          "data": {
            "text/plain": [
              "            Image_ID        class  confidence  ymin  xmin  ymax  xmax  \\\n",
              "0  id_u3q6jdck4j.jpg  Trophozoite         1.0   712  1241   737  1270   \n",
              "1  id_a6cl90trri.jpg  Trophozoite         1.0   558  1566   600  1604   \n",
              "2  id_qvc2le9sm8.jpg  Trophozoite         1.0  1317  2788  1448  2914   \n",
              "3  id_w8xnbd5rvm.jpg  Trophozoite         1.0   925  1744  1041  1823   \n",
              "4  id_6dop09rk02.jpg          NEG         1.0     0     0     0     0   \n",
              "\n",
              "                 image_path  class_id  \n",
              "0  images/id_u3q6jdck4j.jpg         0  \n",
              "1  images/id_a6cl90trri.jpg         0  \n",
              "2  images/id_qvc2le9sm8.jpg         0  \n",
              "3  images/id_w8xnbd5rvm.jpg         0  \n",
              "4  images/id_6dop09rk02.jpg         2  "
            ],
            "text/html": [
              "\n",
              "  <div id=\"df-56c5a012-99b2-4f46-81f7-1d43d61972f8\" class=\"colab-df-container\">\n",
              "    <div>\n",
              "<style scoped>\n",
              "    .dataframe tbody tr th:only-of-type {\n",
              "        vertical-align: middle;\n",
              "    }\n",
              "\n",
              "    .dataframe tbody tr th {\n",
              "        vertical-align: top;\n",
              "    }\n",
              "\n",
              "    .dataframe thead th {\n",
              "        text-align: right;\n",
              "    }\n",
              "</style>\n",
              "<table border=\"1\" class=\"dataframe\">\n",
              "  <thead>\n",
              "    <tr style=\"text-align: right;\">\n",
              "      <th></th>\n",
              "      <th>Image_ID</th>\n",
              "      <th>class</th>\n",
              "      <th>confidence</th>\n",
              "      <th>ymin</th>\n",
              "      <th>xmin</th>\n",
              "      <th>ymax</th>\n",
              "      <th>xmax</th>\n",
              "      <th>image_path</th>\n",
              "      <th>class_id</th>\n",
              "    </tr>\n",
              "  </thead>\n",
              "  <tbody>\n",
              "    <tr>\n",
              "      <th>0</th>\n",
              "      <td>id_u3q6jdck4j.jpg</td>\n",
              "      <td>Trophozoite</td>\n",
              "      <td>1.0</td>\n",
              "      <td>712</td>\n",
              "      <td>1241</td>\n",
              "      <td>737</td>\n",
              "      <td>1270</td>\n",
              "      <td>images/id_u3q6jdck4j.jpg</td>\n",
              "      <td>0</td>\n",
              "    </tr>\n",
              "    <tr>\n",
              "      <th>1</th>\n",
              "      <td>id_a6cl90trri.jpg</td>\n",
              "      <td>Trophozoite</td>\n",
              "      <td>1.0</td>\n",
              "      <td>558</td>\n",
              "      <td>1566</td>\n",
              "      <td>600</td>\n",
              "      <td>1604</td>\n",
              "      <td>images/id_a6cl90trri.jpg</td>\n",
              "      <td>0</td>\n",
              "    </tr>\n",
              "    <tr>\n",
              "      <th>2</th>\n",
              "      <td>id_qvc2le9sm8.jpg</td>\n",
              "      <td>Trophozoite</td>\n",
              "      <td>1.0</td>\n",
              "      <td>1317</td>\n",
              "      <td>2788</td>\n",
              "      <td>1448</td>\n",
              "      <td>2914</td>\n",
              "      <td>images/id_qvc2le9sm8.jpg</td>\n",
              "      <td>0</td>\n",
              "    </tr>\n",
              "    <tr>\n",
              "      <th>3</th>\n",
              "      <td>id_w8xnbd5rvm.jpg</td>\n",
              "      <td>Trophozoite</td>\n",
              "      <td>1.0</td>\n",
              "      <td>925</td>\n",
              "      <td>1744</td>\n",
              "      <td>1041</td>\n",
              "      <td>1823</td>\n",
              "      <td>images/id_w8xnbd5rvm.jpg</td>\n",
              "      <td>0</td>\n",
              "    </tr>\n",
              "    <tr>\n",
              "      <th>4</th>\n",
              "      <td>id_6dop09rk02.jpg</td>\n",
              "      <td>NEG</td>\n",
              "      <td>1.0</td>\n",
              "      <td>0</td>\n",
              "      <td>0</td>\n",
              "      <td>0</td>\n",
              "      <td>0</td>\n",
              "      <td>images/id_6dop09rk02.jpg</td>\n",
              "      <td>2</td>\n",
              "    </tr>\n",
              "  </tbody>\n",
              "</table>\n",
              "</div>\n",
              "    <div class=\"colab-df-buttons\">\n",
              "\n",
              "  <div class=\"colab-df-container\">\n",
              "    <button class=\"colab-df-convert\" onclick=\"convertToInteractive('df-56c5a012-99b2-4f46-81f7-1d43d61972f8')\"\n",
              "            title=\"Convert this dataframe to an interactive table.\"\n",
              "            style=\"display:none;\">\n",
              "\n",
              "  <svg xmlns=\"http://www.w3.org/2000/svg\" height=\"24px\" viewBox=\"0 -960 960 960\">\n",
              "    <path d=\"M120-120v-720h720v720H120Zm60-500h600v-160H180v160Zm220 220h160v-160H400v160Zm0 220h160v-160H400v160ZM180-400h160v-160H180v160Zm440 0h160v-160H620v160ZM180-180h160v-160H180v160Zm440 0h160v-160H620v160Z\"/>\n",
              "  </svg>\n",
              "    </button>\n",
              "\n",
              "  <style>\n",
              "    .colab-df-container {\n",
              "      display:flex;\n",
              "      gap: 12px;\n",
              "    }\n",
              "\n",
              "    .colab-df-convert {\n",
              "      background-color: #E8F0FE;\n",
              "      border: none;\n",
              "      border-radius: 50%;\n",
              "      cursor: pointer;\n",
              "      display: none;\n",
              "      fill: #1967D2;\n",
              "      height: 32px;\n",
              "      padding: 0 0 0 0;\n",
              "      width: 32px;\n",
              "    }\n",
              "\n",
              "    .colab-df-convert:hover {\n",
              "      background-color: #E2EBFA;\n",
              "      box-shadow: 0px 1px 2px rgba(60, 64, 67, 0.3), 0px 1px 3px 1px rgba(60, 64, 67, 0.15);\n",
              "      fill: #174EA6;\n",
              "    }\n",
              "\n",
              "    .colab-df-buttons div {\n",
              "      margin-bottom: 4px;\n",
              "    }\n",
              "\n",
              "    [theme=dark] .colab-df-convert {\n",
              "      background-color: #3B4455;\n",
              "      fill: #D2E3FC;\n",
              "    }\n",
              "\n",
              "    [theme=dark] .colab-df-convert:hover {\n",
              "      background-color: #434B5C;\n",
              "      box-shadow: 0px 1px 3px 1px rgba(0, 0, 0, 0.15);\n",
              "      filter: drop-shadow(0px 1px 2px rgba(0, 0, 0, 0.3));\n",
              "      fill: #FFFFFF;\n",
              "    }\n",
              "  </style>\n",
              "\n",
              "    <script>\n",
              "      const buttonEl =\n",
              "        document.querySelector('#df-56c5a012-99b2-4f46-81f7-1d43d61972f8 button.colab-df-convert');\n",
              "      buttonEl.style.display =\n",
              "        google.colab.kernel.accessAllowed ? 'block' : 'none';\n",
              "\n",
              "      async function convertToInteractive(key) {\n",
              "        const element = document.querySelector('#df-56c5a012-99b2-4f46-81f7-1d43d61972f8');\n",
              "        const dataTable =\n",
              "          await google.colab.kernel.invokeFunction('convertToInteractive',\n",
              "                                                    [key], {});\n",
              "        if (!dataTable) return;\n",
              "\n",
              "        const docLinkHtml = 'Like what you see? Visit the ' +\n",
              "          '<a target=\"_blank\" href=https://colab.research.google.com/notebooks/data_table.ipynb>data table notebook</a>'\n",
              "          + ' to learn more about interactive tables.';\n",
              "        element.innerHTML = '';\n",
              "        dataTable['output_type'] = 'display_data';\n",
              "        await google.colab.output.renderOutput(dataTable, element);\n",
              "        const docLink = document.createElement('div');\n",
              "        docLink.innerHTML = docLinkHtml;\n",
              "        element.appendChild(docLink);\n",
              "      }\n",
              "    </script>\n",
              "  </div>\n",
              "\n",
              "\n",
              "<div id=\"df-cf2a9d19-21f0-4e23-9718-b5514070ef8f\">\n",
              "  <button class=\"colab-df-quickchart\" onclick=\"quickchart('df-cf2a9d19-21f0-4e23-9718-b5514070ef8f')\"\n",
              "            title=\"Suggest charts\"\n",
              "            style=\"display:none;\">\n",
              "\n",
              "<svg xmlns=\"http://www.w3.org/2000/svg\" height=\"24px\"viewBox=\"0 0 24 24\"\n",
              "     width=\"24px\">\n",
              "    <g>\n",
              "        <path d=\"M19 3H5c-1.1 0-2 .9-2 2v14c0 1.1.9 2 2 2h14c1.1 0 2-.9 2-2V5c0-1.1-.9-2-2-2zM9 17H7v-7h2v7zm4 0h-2V7h2v10zm4 0h-2v-4h2v4z\"/>\n",
              "    </g>\n",
              "</svg>\n",
              "  </button>\n",
              "\n",
              "<style>\n",
              "  .colab-df-quickchart {\n",
              "      --bg-color: #E8F0FE;\n",
              "      --fill-color: #1967D2;\n",
              "      --hover-bg-color: #E2EBFA;\n",
              "      --hover-fill-color: #174EA6;\n",
              "      --disabled-fill-color: #AAA;\n",
              "      --disabled-bg-color: #DDD;\n",
              "  }\n",
              "\n",
              "  [theme=dark] .colab-df-quickchart {\n",
              "      --bg-color: #3B4455;\n",
              "      --fill-color: #D2E3FC;\n",
              "      --hover-bg-color: #434B5C;\n",
              "      --hover-fill-color: #FFFFFF;\n",
              "      --disabled-bg-color: #3B4455;\n",
              "      --disabled-fill-color: #666;\n",
              "  }\n",
              "\n",
              "  .colab-df-quickchart {\n",
              "    background-color: var(--bg-color);\n",
              "    border: none;\n",
              "    border-radius: 50%;\n",
              "    cursor: pointer;\n",
              "    display: none;\n",
              "    fill: var(--fill-color);\n",
              "    height: 32px;\n",
              "    padding: 0;\n",
              "    width: 32px;\n",
              "  }\n",
              "\n",
              "  .colab-df-quickchart:hover {\n",
              "    background-color: var(--hover-bg-color);\n",
              "    box-shadow: 0 1px 2px rgba(60, 64, 67, 0.3), 0 1px 3px 1px rgba(60, 64, 67, 0.15);\n",
              "    fill: var(--button-hover-fill-color);\n",
              "  }\n",
              "\n",
              "  .colab-df-quickchart-complete:disabled,\n",
              "  .colab-df-quickchart-complete:disabled:hover {\n",
              "    background-color: var(--disabled-bg-color);\n",
              "    fill: var(--disabled-fill-color);\n",
              "    box-shadow: none;\n",
              "  }\n",
              "\n",
              "  .colab-df-spinner {\n",
              "    border: 2px solid var(--fill-color);\n",
              "    border-color: transparent;\n",
              "    border-bottom-color: var(--fill-color);\n",
              "    animation:\n",
              "      spin 1s steps(1) infinite;\n",
              "  }\n",
              "\n",
              "  @keyframes spin {\n",
              "    0% {\n",
              "      border-color: transparent;\n",
              "      border-bottom-color: var(--fill-color);\n",
              "      border-left-color: var(--fill-color);\n",
              "    }\n",
              "    20% {\n",
              "      border-color: transparent;\n",
              "      border-left-color: var(--fill-color);\n",
              "      border-top-color: var(--fill-color);\n",
              "    }\n",
              "    30% {\n",
              "      border-color: transparent;\n",
              "      border-left-color: var(--fill-color);\n",
              "      border-top-color: var(--fill-color);\n",
              "      border-right-color: var(--fill-color);\n",
              "    }\n",
              "    40% {\n",
              "      border-color: transparent;\n",
              "      border-right-color: var(--fill-color);\n",
              "      border-top-color: var(--fill-color);\n",
              "    }\n",
              "    60% {\n",
              "      border-color: transparent;\n",
              "      border-right-color: var(--fill-color);\n",
              "    }\n",
              "    80% {\n",
              "      border-color: transparent;\n",
              "      border-right-color: var(--fill-color);\n",
              "      border-bottom-color: var(--fill-color);\n",
              "    }\n",
              "    90% {\n",
              "      border-color: transparent;\n",
              "      border-bottom-color: var(--fill-color);\n",
              "    }\n",
              "  }\n",
              "</style>\n",
              "\n",
              "  <script>\n",
              "    async function quickchart(key) {\n",
              "      const quickchartButtonEl =\n",
              "        document.querySelector('#' + key + ' button');\n",
              "      quickchartButtonEl.disabled = true;  // To prevent multiple clicks.\n",
              "      quickchartButtonEl.classList.add('colab-df-spinner');\n",
              "      try {\n",
              "        const charts = await google.colab.kernel.invokeFunction(\n",
              "            'suggestCharts', [key], {});\n",
              "      } catch (error) {\n",
              "        console.error('Error during call to suggestCharts:', error);\n",
              "      }\n",
              "      quickchartButtonEl.classList.remove('colab-df-spinner');\n",
              "      quickchartButtonEl.classList.add('colab-df-quickchart-complete');\n",
              "    }\n",
              "    (() => {\n",
              "      let quickchartButtonEl =\n",
              "        document.querySelector('#df-cf2a9d19-21f0-4e23-9718-b5514070ef8f button');\n",
              "      quickchartButtonEl.style.display =\n",
              "        google.colab.kernel.accessAllowed ? 'block' : 'none';\n",
              "    })();\n",
              "  </script>\n",
              "</div>\n",
              "\n",
              "    </div>\n",
              "  </div>\n"
            ],
            "application/vnd.google.colaboratory.intrinsic+json": {
              "type": "dataframe",
              "variable_name": "train",
              "summary": "{\n  \"name\": \"train\",\n  \"rows\": 23530,\n  \"fields\": [\n    {\n      \"column\": \"Image_ID\",\n      \"properties\": {\n        \"dtype\": \"category\",\n        \"num_unique_values\": 2747,\n        \"samples\": [\n          \"id_g8q3grlu7l.jpg\",\n          \"id_lrladi6gkk.jpg\",\n          \"id_q6r7g45ots.jpg\"\n        ],\n        \"semantic_type\": \"\",\n        \"description\": \"\"\n      }\n    },\n    {\n      \"column\": \"class\",\n      \"properties\": {\n        \"dtype\": \"category\",\n        \"num_unique_values\": 3,\n        \"samples\": [\n          \"Trophozoite\",\n          \"NEG\",\n          \"WBC\"\n        ],\n        \"semantic_type\": \"\",\n        \"description\": \"\"\n      }\n    },\n    {\n      \"column\": \"confidence\",\n      \"properties\": {\n        \"dtype\": \"number\",\n        \"std\": 0.0,\n        \"min\": 1.0,\n        \"max\": 1.0,\n        \"num_unique_values\": 1,\n        \"samples\": [\n          1.0\n        ],\n        \"semantic_type\": \"\",\n        \"description\": \"\"\n      }\n    },\n    {\n      \"column\": \"ymin\",\n      \"properties\": {\n        \"dtype\": \"number\",\n        \"std\": 676,\n        \"min\": 0,\n        \"max\": 3012,\n        \"num_unique_values\": 2151,\n        \"samples\": [\n          932\n        ],\n        \"semantic_type\": \"\",\n        \"description\": \"\"\n      }\n    },\n    {\n      \"column\": \"xmin\",\n      \"properties\": {\n        \"dtype\": \"number\",\n        \"std\": 860,\n        \"min\": 0,\n        \"max\": 4051,\n        \"num_unique_values\": 2786,\n        \"samples\": [\n          2360\n        ],\n        \"semantic_type\": \"\",\n        \"description\": \"\"\n      }\n    },\n    {\n      \"column\": \"ymax\",\n      \"properties\": {\n        \"dtype\": \"number\",\n        \"std\": 704,\n        \"min\": 0,\n        \"max\": 3116,\n        \"num_unique_values\": 2464,\n        \"samples\": [\n          900\n        ],\n        \"semantic_type\": \"\",\n        \"description\": \"\"\n      }\n    },\n    {\n      \"column\": \"xmax\",\n      \"properties\": {\n        \"dtype\": \"number\",\n        \"std\": 886,\n        \"min\": 0,\n        \"max\": 4155,\n        \"num_unique_values\": 3139,\n        \"samples\": [\n          3097\n        ],\n        \"semantic_type\": \"\",\n        \"description\": \"\"\n      }\n    },\n    {\n      \"column\": \"image_path\",\n      \"properties\": {\n        \"dtype\": \"category\",\n        \"num_unique_values\": 2747,\n        \"samples\": [\n          \"images/id_g8q3grlu7l.jpg\"\n        ],\n        \"semantic_type\": \"\",\n        \"description\": \"\"\n      }\n    },\n    {\n      \"column\": \"class_id\",\n      \"properties\": {\n        \"dtype\": \"number\",\n        \"std\": 0,\n        \"min\": 0,\n        \"max\": 2,\n        \"num_unique_values\": 3,\n        \"samples\": [\n          0\n        ],\n        \"semantic_type\": \"\",\n        \"description\": \"\"\n      }\n    }\n  ]\n}"
            }
          },
          "metadata": {},
          "execution_count": 7
        }
      ],
      "source": [
        "# Load train and test files\n",
        "train = pd.read_csv(DATA_DIR / 'Train.csv')\n",
        "test = pd.read_csv(DATA_DIR / 'Test.csv')\n",
        "ss = pd.read_csv(DATA_DIR / 'SampleSubmission.csv')\n",
        "\n",
        "# Add an image_path column\n",
        "train['image_path'] = [Path('images/' + x) for x in train.Image_ID]\n",
        "test['image_path'] = [Path('images/' + x) for x in test.Image_ID]\n",
        "\n",
        "# Map str classes to ints (label encoding targets)\n",
        "train['class_id'] = train['class'].map({'Trophozoite': 0, 'WBC': 1, 'NEG': 2})\n",
        "\n",
        "# Preview the head of the train set\n",
        "train.head()"
      ]
    },
    {
      "cell_type": "code",
      "execution_count": 8,
      "metadata": {
        "id": "Cro7Tqtzxd_g"
      },
      "outputs": [],
      "source": [
        "# Filter out NEG class (Negative images - this images have no Trophozoite nor WBC in them)\n",
        "# Yolo reccomends that when creating labels for negative images, you leave them empty\n",
        "# https://github.com/ultralytics/yolov5/issues/3218\n",
        "# As this is a starter nb, we will ignore the negative images\n",
        "train = train[~(train['class'] == 'NEG')].reset_index(drop = True)"
      ]
    },
    {
      "cell_type": "code",
      "execution_count": 9,
      "metadata": {
        "colab": {
          "base_uri": "https://localhost:8080/"
        },
        "id": "17zUCoWWT6JO",
        "outputId": "4cef025d-72b9-4e0c-c5a3-b05c71fadb34"
      },
      "outputs": [
        {
          "output_type": "execute_result",
          "data": {
            "text/plain": [
              "((17354, 9), (5488, 9))"
            ]
          },
          "metadata": {},
          "execution_count": 9
        }
      ],
      "source": [
        "# Split data into training and validation\n",
        "train_unique_imgs_df = train.drop_duplicates(subset = ['Image_ID'], ignore_index = True)\n",
        "X_train, X_val = train_test_split(train_unique_imgs_df, test_size = 0.25, stratify=train_unique_imgs_df['class'], random_state=42)\n",
        "\n",
        "X_train = train[train.Image_ID.isin(X_train.Image_ID)]\n",
        "X_val = train[train.Image_ID.isin(X_val.Image_ID)]\n",
        "\n",
        "# Check shapes of training and validation data\n",
        "X_train.shape, X_val.shape"
      ]
    },
    {
      "cell_type": "code",
      "execution_count": 10,
      "metadata": {
        "colab": {
          "base_uri": "https://localhost:8080/"
        },
        "id": "3Vy1u_542aI7",
        "outputId": "6e720b46-4b01-4387-9c10-941c78d86bc0"
      },
      "outputs": [
        {
          "output_type": "execute_result",
          "data": {
            "text/plain": [
              "(class\n",
              " Trophozoite    0.688141\n",
              " WBC            0.311859\n",
              " Name: proportion, dtype: float64,\n",
              " class\n",
              " Trophozoite    0.709913\n",
              " WBC            0.290087\n",
              " Name: proportion, dtype: float64)"
            ]
          },
          "metadata": {},
          "execution_count": 10
        }
      ],
      "source": [
        "# Preview target distribution, seems there a class imbalance that needs to be handled\n",
        "X_train['class'].value_counts(normalize = True), X_val['class'].value_counts(normalize = True)"
      ]
    },
    {
      "cell_type": "code",
      "execution_count": 11,
      "metadata": {
        "id": "ePBUqMMzGuOC"
      },
      "outputs": [],
      "source": [
        "# Check if dirs exist, if they do, remove them, otherwise create them.\n",
        "# This only needs to run once\n",
        "for DIR in [TRAIN_IMAGES_DIR,VAL_IMAGES_DIR, TEST_IMAGES_DIR, TRAIN_LABELS_DIR,VAL_LABELS_DIR,TEST_LABELS_DIR]:\n",
        "  if DIR.exists():\n",
        "    shutil.rmtree(DIR)\n",
        "  DIR.mkdir(parents=True, exist_ok = True)"
      ]
    },
    {
      "cell_type": "code",
      "execution_count": null,
      "metadata": {
        "colab": {
          "base_uri": "https://localhost:8080/",
          "height": 49,
          "referenced_widgets": [
            "bbe8db7487304145a07c75e2b4b1c2f8",
            "ae33f72279464949a3dcfcf9da5bddb9",
            "ac81baf658274dd1bd2a59b7457748c1",
            "0224541fe5bd4810947de15e3a902c96",
            "60db097c4e744227bb42ce493e39f551",
            "d40389b6e3c743e983fd39a4048185d9",
            "78bdfb30a46c4d839d6e3172ff41f805",
            "8377086b0cc54280adbbac4eb41b174f",
            "80d93b5af9634648a99d114234a54b16",
            "32a656bc24194b77956fb4ad6b39745d",
            "a6e514d8624143e9bde75cb7028e1f1a"
          ]
        },
        "id": "N4Pi3KUQIyeJ",
        "outputId": "2f2c2073-a3da-438b-d83c-85f027632c00"
      },
      "outputs": [
        {
          "output_type": "display_data",
          "data": {
            "text/plain": [
              "  0%|          | 0/1544 [00:00<?, ?it/s]"
            ],
            "application/vnd.jupyter.widget-view+json": {
              "version_major": 2,
              "version_minor": 0,
              "model_id": "bbe8db7487304145a07c75e2b4b1c2f8"
            }
          },
          "metadata": {}
        }
      ],
      "source": [
        "# Copy train, val and test images to their respective dirs\n",
        "for img in tqdm(DATA_DIR/X_train.image_path.unique()):\n",
        "  shutil.copy(img, TRAIN_IMAGES_DIR / img.parts[-1])\n",
        "\n",
        "for img in tqdm(DATA_DIR/X_val.image_path.unique()):\n",
        "  shutil.copy(img, VAL_IMAGES_DIR / img.parts[-1])\n",
        "\n",
        "for img in tqdm(DATA_DIR/test.image_path.unique()):\n",
        "  shutil.copy(img, TEST_IMAGES_DIR / img.parts[-1])"
      ]
    },
    {
      "cell_type": "code",
      "source": [
        "# Function to convert the bboxes to yolo format and save them\n",
        "def save_yolo_annotation(row):\n",
        "    image_path = DATA_DIR / row['image_path']\n",
        "    class_id, output_dir = row['class_id'], row['output_dir']\n",
        "    img = cv2.imread(str(image_path))\n",
        "\n",
        "    if img is None:\n",
        "        raise ValueError(f\"Could not read image from path: {image_path}\")\n",
        "\n",
        "    height, width, _ = img.shape\n",
        "\n",
        "    label_file = Path(output_dir) / f\"{Path(image_path).stem}.txt\"\n",
        "\n",
        "    ymin, xmin, ymax, xmax = row['ymin'], row['xmin'], row['ymax'], row['xmax']\n",
        "\n",
        "    # Normalize the coordinates\n",
        "    x_center = (xmin + xmax) / 2 / width\n",
        "    y_center = (ymin + ymax) / 2 / height\n",
        "    bbox_width = (xmax - xmin) / width\n",
        "    bbox_height = (ymax - ymin) / height\n",
        "\n",
        "    with open(label_file, 'a') as f:\n",
        "        f.write(f\"{class_id} {x_center:.6f} {y_center:.6f} {bbox_width:.6f} {bbox_height:.6f}\\n\")\n",
        "\n",
        "# Parallelize the annotation saving process\n",
        "def process_dataset(dataframe, output_dir):\n",
        "    dataframe['output_dir'] = output_dir\n",
        "    with multiprocessing.Pool() as pool:\n",
        "        list(tqdm(pool.imap(save_yolo_annotation, dataframe.to_dict('records')), total=len(dataframe)))\n",
        "\n",
        "# Save train and validation labels to their respective dirs\n",
        "process_dataset(X_train, TRAIN_LABELS_DIR)\n",
        "process_dataset(X_val, VAL_LABELS_DIR)"
      ],
      "metadata": {
        "id": "3Az4Eh_MhPyq"
      },
      "execution_count": null,
      "outputs": []
    },
    {
      "cell_type": "code",
      "execution_count": null,
      "metadata": {
        "id": "k6ka7dY4iH1U"
      },
      "outputs": [],
      "source": [
        "# Train images dir\n",
        "TRAIN_IMAGES_DIR"
      ]
    },
    {
      "cell_type": "code",
      "execution_count": null,
      "metadata": {
        "id": "mYrPsLMHIyW_"
      },
      "outputs": [],
      "source": [
        "# Create a data.yaml file required by yolo\n",
        "class_names = train['class'].unique().tolist()\n",
        "num_classes = len(class_names)\n",
        "\n",
        "data_yaml = {\n",
        "    'train': '/content/' + str(TRAIN_IMAGES_DIR),\n",
        "    'val': '/content/' + str(VAL_IMAGES_DIR),\n",
        "    'test': '/content/' + str(TEST_IMAGES_DIR),\n",
        "    'nc': num_classes,\n",
        "    'names': class_names\n",
        "}\n",
        "\n",
        "yaml_path = 'data.yaml'\n",
        "with open(yaml_path, 'w') as file:\n",
        "    yaml.dump(data_yaml, file, default_flow_style=False)\n",
        "\n",
        "# Preview data yaml file\n",
        "data_yaml"
      ]
    },
    {
      "cell_type": "code",
      "execution_count": null,
      "metadata": {
        "id": "h3LwCmC9xusu"
      },
      "outputs": [],
      "source": [
        "# Plot some images and their bboxes to ensure the conversion was done correctly\n",
        "def load_annotations(label_path):\n",
        "    with open(label_path, 'r') as f:\n",
        "        lines = f.readlines()\n",
        "    boxes = []\n",
        "    for line in lines:\n",
        "        class_id, x_center, y_center, width, height = map(float, line.strip().split())\n",
        "        boxes.append((class_id, x_center, y_center, width, height))\n",
        "    return boxes\n",
        "\n",
        "# Function to plot an image with its bounding boxes\n",
        "def plot_image_with_boxes(image_path, boxes):\n",
        "    # Load the image\n",
        "    image = cv2.imread(str(image_path))\n",
        "    image = cv2.cvtColor(image, cv2.COLOR_BGR2RGB)\n",
        "\n",
        "    # Get image dimensions\n",
        "    h, w, _ = image.shape\n",
        "\n",
        "    # Plot the image\n",
        "    plt.figure(figsize=(10, 10))\n",
        "    plt.imshow(image)\n",
        "\n",
        "    # Plot each bounding box\n",
        "    for box in boxes:\n",
        "        class_id, x_center, y_center, width, height = box\n",
        "        # Convert YOLO format to corner coordinates\n",
        "        xmin = int((x_center - width / 2) * w)\n",
        "        ymin = int((y_center - height / 2) * h)\n",
        "        xmax = int((x_center + width / 2) * w)\n",
        "        ymax = int((y_center + height / 2) * h)\n",
        "\n",
        "        # Draw the bounding box\n",
        "        plt.gca().add_patch(plt.Rectangle((xmin, ymin), xmax - xmin, ymax - ymin,\n",
        "                                          edgecolor='red', facecolor='none', linewidth=2))\n",
        "        plt.text(xmin, ymin - 10, f'Class {int(class_id)}', color='red', fontsize=12, weight='bold')\n",
        "\n",
        "    plt.axis('off')\n",
        "    plt.show()\n",
        "\n",
        "# Directories for images and labels\n",
        "IMAGE_DIR = TRAIN_IMAGES_DIR\n",
        "LABEL_DIR = TRAIN_LABELS_DIR\n",
        "\n",
        "# Plot a few images with their annotations\n",
        "for image_name in os.listdir(IMAGE_DIR)[:3]:\n",
        "    image_path = IMAGE_DIR / image_name\n",
        "    label_path = LABEL_DIR / (image_name.replace('.jpg', '.txt').replace('.png', '.txt'))\n",
        "\n",
        "    if label_path.exists():\n",
        "        boxes = load_annotations(label_path)\n",
        "        print(f\"Plotting {image_name} with {len(boxes)} bounding boxes.\")\n",
        "        plot_image_with_boxes(image_path, boxes)\n",
        "    else:\n",
        "        print(f\"No annotations found for {image_name}.\")\n"
      ]
    },
    {
      "cell_type": "code",
      "source": [
        "# Load a yolo pretrained model\n",
        "model = YOLO('yolov8m.pt')\n",
        "\n",
        "# Fine tune model to our data\n",
        "model.train(\n",
        "    data='data.yaml',          # Path to the dataset configuration\n",
        "    epochs=1,                 # Number of epochs\n",
        "    imgsz=2048,                # Image size (height, width)\n",
        "    batch=8,                   # Batch size\n",
        "    device='cpu',                  # Device to use (0 for the first GPU, 2 for CUDA, 'cpu' to use colab processor setup)\n",
        "    patience=5)"
      ],
      "metadata": {
        "id": "KXzxYJYdExAG"
      },
      "execution_count": null,
      "outputs": []
    },
    {
      "cell_type": "code",
      "source": [
        "# Validate the model on the validation set\n",
        "model = YOLO('/content/runs/detect/train/weights/best.pt')\n",
        "results = model.val()"
      ],
      "metadata": {
        "id": "PU45G9M6KOrL"
      },
      "execution_count": null,
      "outputs": []
    },
    {
      "cell_type": "code",
      "source": [
        "# Load the trained YOLO model\n",
        "model = YOLO('/content/runs/detect/train/weights/best.pt')\n",
        "\n",
        "# Path to the test images directory\n",
        "test_dir_path = '/content/datasets/dataset/images/test'\n",
        "\n",
        "# Get a list of all image files in the test directory\n",
        "image_files = os.listdir(test_dir_path)\n",
        "\n",
        "# Initialize an empty list to store the results for all images\n",
        "all_data = []\n",
        "\n",
        "# Iterate through each image in the directory\n",
        "for image_file in tqdm(image_files):\n",
        "    # Full path to the image\n",
        "    img_path = os.path.join(test_dir_path, image_file)\n",
        "\n",
        "    # Make predictions on the image\n",
        "    results = model(img_path)\n",
        "\n",
        "    # Extract bounding boxes, confidence scores, and class labels\n",
        "    boxes = results[0].boxes.xyxy.tolist()  # Bounding boxes in xyxy format\n",
        "    classes = results[0].boxes.cls.tolist()  # Class indices\n",
        "    confidences = results[0].boxes.conf.tolist()  # Confidence scores\n",
        "    names = results[0].names  # Class names dictionary\n",
        "\n",
        "    if not boxes:\n",
        "        # If no detections, add NEG as the class\n",
        "        all_data.append({\n",
        "            'Image_ID': image_file,\n",
        "            'class': 'NEG',\n",
        "            'confidence': 1.0,  # You can set this to a default value\n",
        "            'ymin': 0,  # Default value (no detection)\n",
        "            'xmin': 0,  # Default value (no detection)\n",
        "            'ymax': 0,  # Default value (no detection)\n",
        "            'xmax': 0   # Default value (no detection)\n",
        "        })\n",
        "    else:\n",
        "        # Iterate through the results for this image\n",
        "        for box, cls, conf in zip(boxes, classes, confidences):\n",
        "            x1, y1, x2, y2 = box\n",
        "            detected_class = names[int(cls)]  # Get the class name from the names dictionary\n",
        "\n",
        "            # Add the result to the all_data list\n",
        "            all_data.append({\n",
        "                'Image_ID': image_file,\n",
        "                'class': detected_class,\n",
        "                'confidence': conf,\n",
        "                'ymin': y1,\n",
        "                'xmin': x1,\n",
        "                'ymax': y2,\n",
        "                'xmax': x2\n",
        "            })\n",
        "\n",
        "# Convert the list to a DataFrame for all images\n",
        "sub = pd.DataFrame(all_data)"
      ],
      "metadata": {
        "id": "CO_SLuUryN0l"
      },
      "execution_count": null,
      "outputs": []
    },
    {
      "cell_type": "code",
      "source": [
        "sub.head()"
      ],
      "metadata": {
        "id": "HxDKvIQ80W_Z"
      },
      "execution_count": null,
      "outputs": []
    },
    {
      "cell_type": "code",
      "source": [
        "sub['class'].value_counts()"
      ],
      "metadata": {
        "id": "F6A2nVrV1-CN"
      },
      "execution_count": null,
      "outputs": []
    },
    {
      "cell_type": "code",
      "source": [
        "# Create submission file to be uploaded to Zindi for scoring\n",
        "sub.to_csv('benchmark_submission.csv', index = False)"
      ],
      "metadata": {
        "id": "gI-i73Rm2CnH"
      },
      "execution_count": null,
      "outputs": []
    },
    {
      "cell_type": "code",
      "source": [],
      "metadata": {
        "id": "wH79yW8O2mQK"
      },
      "execution_count": null,
      "outputs": []
    }
  ],
  "metadata": {
    "accelerator": "TPU",
    "colab": {
      "gpuType": "V28",
      "provenance": [],
      "include_colab_link": true
    },
    "kernelspec": {
      "display_name": "Python 3",
      "name": "python3"
    },
    "language_info": {
      "name": "python"
    },
    "widgets": {
      "application/vnd.jupyter.widget-state+json": {
        "bbe8db7487304145a07c75e2b4b1c2f8": {
          "model_module": "@jupyter-widgets/controls",
          "model_name": "HBoxModel",
          "model_module_version": "1.5.0",
          "state": {
            "_dom_classes": [],
            "_model_module": "@jupyter-widgets/controls",
            "_model_module_version": "1.5.0",
            "_model_name": "HBoxModel",
            "_view_count": null,
            "_view_module": "@jupyter-widgets/controls",
            "_view_module_version": "1.5.0",
            "_view_name": "HBoxView",
            "box_style": "",
            "children": [
              "IPY_MODEL_ae33f72279464949a3dcfcf9da5bddb9",
              "IPY_MODEL_ac81baf658274dd1bd2a59b7457748c1",
              "IPY_MODEL_0224541fe5bd4810947de15e3a902c96"
            ],
            "layout": "IPY_MODEL_60db097c4e744227bb42ce493e39f551"
          }
        },
        "ae33f72279464949a3dcfcf9da5bddb9": {
          "model_module": "@jupyter-widgets/controls",
          "model_name": "HTMLModel",
          "model_module_version": "1.5.0",
          "state": {
            "_dom_classes": [],
            "_model_module": "@jupyter-widgets/controls",
            "_model_module_version": "1.5.0",
            "_model_name": "HTMLModel",
            "_view_count": null,
            "_view_module": "@jupyter-widgets/controls",
            "_view_module_version": "1.5.0",
            "_view_name": "HTMLView",
            "description": "",
            "description_tooltip": null,
            "layout": "IPY_MODEL_d40389b6e3c743e983fd39a4048185d9",
            "placeholder": "​",
            "style": "IPY_MODEL_78bdfb30a46c4d839d6e3172ff41f805",
            "value": " 67%"
          }
        },
        "ac81baf658274dd1bd2a59b7457748c1": {
          "model_module": "@jupyter-widgets/controls",
          "model_name": "FloatProgressModel",
          "model_module_version": "1.5.0",
          "state": {
            "_dom_classes": [],
            "_model_module": "@jupyter-widgets/controls",
            "_model_module_version": "1.5.0",
            "_model_name": "FloatProgressModel",
            "_view_count": null,
            "_view_module": "@jupyter-widgets/controls",
            "_view_module_version": "1.5.0",
            "_view_name": "ProgressView",
            "bar_style": "",
            "description": "",
            "description_tooltip": null,
            "layout": "IPY_MODEL_8377086b0cc54280adbbac4eb41b174f",
            "max": 1544,
            "min": 0,
            "orientation": "horizontal",
            "style": "IPY_MODEL_80d93b5af9634648a99d114234a54b16",
            "value": 1037
          }
        },
        "0224541fe5bd4810947de15e3a902c96": {
          "model_module": "@jupyter-widgets/controls",
          "model_name": "HTMLModel",
          "model_module_version": "1.5.0",
          "state": {
            "_dom_classes": [],
            "_model_module": "@jupyter-widgets/controls",
            "_model_module_version": "1.5.0",
            "_model_name": "HTMLModel",
            "_view_count": null,
            "_view_module": "@jupyter-widgets/controls",
            "_view_module_version": "1.5.0",
            "_view_name": "HTMLView",
            "description": "",
            "description_tooltip": null,
            "layout": "IPY_MODEL_32a656bc24194b77956fb4ad6b39745d",
            "placeholder": "​",
            "style": "IPY_MODEL_a6e514d8624143e9bde75cb7028e1f1a",
            "value": " 1037/1544 [05:22&lt;02:21,  3.58it/s]"
          }
        },
        "60db097c4e744227bb42ce493e39f551": {
          "model_module": "@jupyter-widgets/base",
          "model_name": "LayoutModel",
          "model_module_version": "1.2.0",
          "state": {
            "_model_module": "@jupyter-widgets/base",
            "_model_module_version": "1.2.0",
            "_model_name": "LayoutModel",
            "_view_count": null,
            "_view_module": "@jupyter-widgets/base",
            "_view_module_version": "1.2.0",
            "_view_name": "LayoutView",
            "align_content": null,
            "align_items": null,
            "align_self": null,
            "border": null,
            "bottom": null,
            "display": null,
            "flex": null,
            "flex_flow": null,
            "grid_area": null,
            "grid_auto_columns": null,
            "grid_auto_flow": null,
            "grid_auto_rows": null,
            "grid_column": null,
            "grid_gap": null,
            "grid_row": null,
            "grid_template_areas": null,
            "grid_template_columns": null,
            "grid_template_rows": null,
            "height": null,
            "justify_content": null,
            "justify_items": null,
            "left": null,
            "margin": null,
            "max_height": null,
            "max_width": null,
            "min_height": null,
            "min_width": null,
            "object_fit": null,
            "object_position": null,
            "order": null,
            "overflow": null,
            "overflow_x": null,
            "overflow_y": null,
            "padding": null,
            "right": null,
            "top": null,
            "visibility": null,
            "width": null
          }
        },
        "d40389b6e3c743e983fd39a4048185d9": {
          "model_module": "@jupyter-widgets/base",
          "model_name": "LayoutModel",
          "model_module_version": "1.2.0",
          "state": {
            "_model_module": "@jupyter-widgets/base",
            "_model_module_version": "1.2.0",
            "_model_name": "LayoutModel",
            "_view_count": null,
            "_view_module": "@jupyter-widgets/base",
            "_view_module_version": "1.2.0",
            "_view_name": "LayoutView",
            "align_content": null,
            "align_items": null,
            "align_self": null,
            "border": null,
            "bottom": null,
            "display": null,
            "flex": null,
            "flex_flow": null,
            "grid_area": null,
            "grid_auto_columns": null,
            "grid_auto_flow": null,
            "grid_auto_rows": null,
            "grid_column": null,
            "grid_gap": null,
            "grid_row": null,
            "grid_template_areas": null,
            "grid_template_columns": null,
            "grid_template_rows": null,
            "height": null,
            "justify_content": null,
            "justify_items": null,
            "left": null,
            "margin": null,
            "max_height": null,
            "max_width": null,
            "min_height": null,
            "min_width": null,
            "object_fit": null,
            "object_position": null,
            "order": null,
            "overflow": null,
            "overflow_x": null,
            "overflow_y": null,
            "padding": null,
            "right": null,
            "top": null,
            "visibility": null,
            "width": null
          }
        },
        "78bdfb30a46c4d839d6e3172ff41f805": {
          "model_module": "@jupyter-widgets/controls",
          "model_name": "DescriptionStyleModel",
          "model_module_version": "1.5.0",
          "state": {
            "_model_module": "@jupyter-widgets/controls",
            "_model_module_version": "1.5.0",
            "_model_name": "DescriptionStyleModel",
            "_view_count": null,
            "_view_module": "@jupyter-widgets/base",
            "_view_module_version": "1.2.0",
            "_view_name": "StyleView",
            "description_width": ""
          }
        },
        "8377086b0cc54280adbbac4eb41b174f": {
          "model_module": "@jupyter-widgets/base",
          "model_name": "LayoutModel",
          "model_module_version": "1.2.0",
          "state": {
            "_model_module": "@jupyter-widgets/base",
            "_model_module_version": "1.2.0",
            "_model_name": "LayoutModel",
            "_view_count": null,
            "_view_module": "@jupyter-widgets/base",
            "_view_module_version": "1.2.0",
            "_view_name": "LayoutView",
            "align_content": null,
            "align_items": null,
            "align_self": null,
            "border": null,
            "bottom": null,
            "display": null,
            "flex": null,
            "flex_flow": null,
            "grid_area": null,
            "grid_auto_columns": null,
            "grid_auto_flow": null,
            "grid_auto_rows": null,
            "grid_column": null,
            "grid_gap": null,
            "grid_row": null,
            "grid_template_areas": null,
            "grid_template_columns": null,
            "grid_template_rows": null,
            "height": null,
            "justify_content": null,
            "justify_items": null,
            "left": null,
            "margin": null,
            "max_height": null,
            "max_width": null,
            "min_height": null,
            "min_width": null,
            "object_fit": null,
            "object_position": null,
            "order": null,
            "overflow": null,
            "overflow_x": null,
            "overflow_y": null,
            "padding": null,
            "right": null,
            "top": null,
            "visibility": null,
            "width": null
          }
        },
        "80d93b5af9634648a99d114234a54b16": {
          "model_module": "@jupyter-widgets/controls",
          "model_name": "ProgressStyleModel",
          "model_module_version": "1.5.0",
          "state": {
            "_model_module": "@jupyter-widgets/controls",
            "_model_module_version": "1.5.0",
            "_model_name": "ProgressStyleModel",
            "_view_count": null,
            "_view_module": "@jupyter-widgets/base",
            "_view_module_version": "1.2.0",
            "_view_name": "StyleView",
            "bar_color": null,
            "description_width": ""
          }
        },
        "32a656bc24194b77956fb4ad6b39745d": {
          "model_module": "@jupyter-widgets/base",
          "model_name": "LayoutModel",
          "model_module_version": "1.2.0",
          "state": {
            "_model_module": "@jupyter-widgets/base",
            "_model_module_version": "1.2.0",
            "_model_name": "LayoutModel",
            "_view_count": null,
            "_view_module": "@jupyter-widgets/base",
            "_view_module_version": "1.2.0",
            "_view_name": "LayoutView",
            "align_content": null,
            "align_items": null,
            "align_self": null,
            "border": null,
            "bottom": null,
            "display": null,
            "flex": null,
            "flex_flow": null,
            "grid_area": null,
            "grid_auto_columns": null,
            "grid_auto_flow": null,
            "grid_auto_rows": null,
            "grid_column": null,
            "grid_gap": null,
            "grid_row": null,
            "grid_template_areas": null,
            "grid_template_columns": null,
            "grid_template_rows": null,
            "height": null,
            "justify_content": null,
            "justify_items": null,
            "left": null,
            "margin": null,
            "max_height": null,
            "max_width": null,
            "min_height": null,
            "min_width": null,
            "object_fit": null,
            "object_position": null,
            "order": null,
            "overflow": null,
            "overflow_x": null,
            "overflow_y": null,
            "padding": null,
            "right": null,
            "top": null,
            "visibility": null,
            "width": null
          }
        },
        "a6e514d8624143e9bde75cb7028e1f1a": {
          "model_module": "@jupyter-widgets/controls",
          "model_name": "DescriptionStyleModel",
          "model_module_version": "1.5.0",
          "state": {
            "_model_module": "@jupyter-widgets/controls",
            "_model_module_version": "1.5.0",
            "_model_name": "DescriptionStyleModel",
            "_view_count": null,
            "_view_module": "@jupyter-widgets/base",
            "_view_module_version": "1.2.0",
            "_view_name": "StyleView",
            "description_width": ""
          }
        }
      }
    }
  },
  "nbformat": 4,
  "nbformat_minor": 0
}